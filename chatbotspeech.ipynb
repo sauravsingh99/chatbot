{
  "nbformat": 4,
  "nbformat_minor": 0,
  "metadata": {
    "colab": {
      "name": "chatbotspeech.ipynb",
      "provenance": [],
      "authorship_tag": "ABX9TyOLyGqrkti16DwzQPE62XiJ",
      "include_colab_link": true
    },
    "kernelspec": {
      "name": "python3",
      "display_name": "Python 3"
    }
  },
  "cells": [
    {
      "cell_type": "markdown",
      "metadata": {
        "id": "view-in-github",
        "colab_type": "text"
      },
      "source": [
        "<a href=\"https://colab.research.google.com/github/sauravsingh99/chatbot/blob/master/chatbotspeech.ipynb\" target=\"_parent\"><img src=\"https://colab.research.google.com/assets/colab-badge.svg\" alt=\"Open In Colab\"/></a>"
      ]
    },
    {
      "cell_type": "code",
      "metadata": {
        "id": "7ysDvPSXR0TR",
        "colab_type": "code",
        "colab": {
          "base_uri": "https://localhost:8080/",
          "height": 743
        },
        "outputId": "1dfb2fa6-9a33-4694-f066-9c13a8d9ba59"
      },
      "source": [
        "pip install chatterbot"
      ],
      "execution_count": 12,
      "outputs": [
        {
          "output_type": "stream",
          "text": [
            "Requirement already satisfied: chatterbot in /usr/local/lib/python3.6/dist-packages (1.0.5)\n",
            "Requirement already satisfied: spacy<2.2,>=2.1 in /usr/local/lib/python3.6/dist-packages (from chatterbot) (2.1.9)\n",
            "Requirement already satisfied: sqlalchemy<1.3,>=1.2 in /usr/local/lib/python3.6/dist-packages (from chatterbot) (1.2.19)\n",
            "Requirement already satisfied: python-dateutil<2.8,>=2.7 in /usr/local/lib/python3.6/dist-packages (from chatterbot) (2.7.5)\n",
            "Requirement already satisfied: mathparse<0.2,>=0.1 in /usr/local/lib/python3.6/dist-packages (from chatterbot) (0.1.2)\n",
            "Requirement already satisfied: pint>=0.8.1 in /usr/local/lib/python3.6/dist-packages (from chatterbot) (0.14)\n",
            "Requirement already satisfied: nltk<4.0,>=3.2 in /usr/local/lib/python3.6/dist-packages (from chatterbot) (3.2.5)\n",
            "Processing /root/.cache/pip/wheels/d9/45/dd/65f0b38450c47cf7e5312883deb97d065e030c5cca0a365030/PyYAML-5.1.2-cp36-cp36m-linux_x86_64.whl\n",
            "Requirement already satisfied: pytz in /usr/local/lib/python3.6/dist-packages (from chatterbot) (2018.9)\n",
            "Requirement already satisfied: pymongo<4.0,>=3.3 in /usr/local/lib/python3.6/dist-packages (from chatterbot) (3.10.1)\n",
            "Requirement already satisfied: blis<0.3.0,>=0.2.2 in /usr/local/lib/python3.6/dist-packages (from spacy<2.2,>=2.1->chatterbot) (0.2.4)\n",
            "Requirement already satisfied: preshed<2.1.0,>=2.0.1 in /usr/local/lib/python3.6/dist-packages (from spacy<2.2,>=2.1->chatterbot) (2.0.1)\n",
            "Requirement already satisfied: cymem<2.1.0,>=2.0.2 in /usr/local/lib/python3.6/dist-packages (from spacy<2.2,>=2.1->chatterbot) (2.0.3)\n",
            "Requirement already satisfied: numpy>=1.15.0 in /usr/local/lib/python3.6/dist-packages (from spacy<2.2,>=2.1->chatterbot) (1.18.5)\n",
            "Requirement already satisfied: wasabi<1.1.0,>=0.2.0 in /usr/local/lib/python3.6/dist-packages (from spacy<2.2,>=2.1->chatterbot) (0.7.0)\n",
            "Requirement already satisfied: plac<1.0.0,>=0.9.6 in /usr/local/lib/python3.6/dist-packages (from spacy<2.2,>=2.1->chatterbot) (0.9.6)\n",
            "Requirement already satisfied: thinc<7.1.0,>=7.0.8 in /usr/local/lib/python3.6/dist-packages (from spacy<2.2,>=2.1->chatterbot) (7.0.8)\n",
            "Requirement already satisfied: requests<3.0.0,>=2.13.0 in /usr/local/lib/python3.6/dist-packages (from spacy<2.2,>=2.1->chatterbot) (2.23.0)\n",
            "Requirement already satisfied: srsly<1.1.0,>=0.0.6 in /usr/local/lib/python3.6/dist-packages (from spacy<2.2,>=2.1->chatterbot) (1.0.2)\n",
            "Requirement already satisfied: murmurhash<1.1.0,>=0.28.0 in /usr/local/lib/python3.6/dist-packages (from spacy<2.2,>=2.1->chatterbot) (1.0.2)\n",
            "Requirement already satisfied: six>=1.5 in /usr/local/lib/python3.6/dist-packages (from python-dateutil<2.8,>=2.7->chatterbot) (1.12.0)\n",
            "Requirement already satisfied: packaging in /usr/local/lib/python3.6/dist-packages (from pint>=0.8.1->chatterbot) (20.4)\n",
            "Requirement already satisfied: importlib-metadata; python_version < \"3.8\" in /usr/local/lib/python3.6/dist-packages (from pint>=0.8.1->chatterbot) (1.6.1)\n",
            "Requirement already satisfied: setuptools in /usr/local/lib/python3.6/dist-packages (from pint>=0.8.1->chatterbot) (47.3.1)\n",
            "Requirement already satisfied: tqdm<5.0.0,>=4.10.0 in /usr/local/lib/python3.6/dist-packages (from thinc<7.1.0,>=7.0.8->spacy<2.2,>=2.1->chatterbot) (4.41.1)\n",
            "Requirement already satisfied: idna<3,>=2.5 in /usr/local/lib/python3.6/dist-packages (from requests<3.0.0,>=2.13.0->spacy<2.2,>=2.1->chatterbot) (2.9)\n",
            "Requirement already satisfied: chardet<4,>=3.0.2 in /usr/local/lib/python3.6/dist-packages (from requests<3.0.0,>=2.13.0->spacy<2.2,>=2.1->chatterbot) (3.0.4)\n",
            "Requirement already satisfied: urllib3!=1.25.0,!=1.25.1,<1.26,>=1.21.1 in /usr/local/lib/python3.6/dist-packages (from requests<3.0.0,>=2.13.0->spacy<2.2,>=2.1->chatterbot) (1.24.3)\n",
            "Requirement already satisfied: certifi>=2017.4.17 in /usr/local/lib/python3.6/dist-packages (from requests<3.0.0,>=2.13.0->spacy<2.2,>=2.1->chatterbot) (2020.6.20)\n",
            "Requirement already satisfied: pyparsing>=2.0.2 in /usr/local/lib/python3.6/dist-packages (from packaging->pint>=0.8.1->chatterbot) (2.4.7)\n",
            "Requirement already satisfied: zipp>=0.5 in /usr/local/lib/python3.6/dist-packages (from importlib-metadata; python_version < \"3.8\"->pint>=0.8.1->chatterbot) (3.1.0)\n",
            "\u001b[31mERROR: chatterbot-corpus 1.2.0 has requirement PyYAML<4.0,>=3.12, but you'll have pyyaml 5.1.2 which is incompatible.\u001b[0m\n",
            "Installing collected packages: pyyaml\n",
            "  Found existing installation: PyYAML 3.13\n",
            "    Uninstalling PyYAML-3.13:\n",
            "      Successfully uninstalled PyYAML-3.13\n",
            "Successfully installed pyyaml-5.1.2\n"
          ],
          "name": "stdout"
        },
        {
          "output_type": "display_data",
          "data": {
            "application/vnd.colab-display-data+json": {
              "pip_warning": {
                "packages": [
                  "yaml"
                ]
              }
            }
          },
          "metadata": {
            "tags": []
          }
        }
      ]
    },
    {
      "cell_type": "code",
      "metadata": {
        "id": "NZH4GP8RR7oQ",
        "colab_type": "code",
        "colab": {
          "base_uri": "https://localhost:8080/",
          "height": 256
        },
        "outputId": "2771263c-a8f0-4c4c-9782-806260bedb25"
      },
      "source": [
        "pip install chatterbot_corpus"
      ],
      "execution_count": 13,
      "outputs": [
        {
          "output_type": "stream",
          "text": [
            "Requirement already satisfied: chatterbot_corpus in /usr/local/lib/python3.6/dist-packages (1.2.0)\n",
            "Processing /root/.cache/pip/wheels/ad/da/0c/74eb680767247273e2cf2723482cb9c924fe70af57c334513f/PyYAML-3.13-cp36-cp36m-linux_x86_64.whl\n",
            "\u001b[31mERROR: chatterbot 1.0.5 has requirement pyyaml<5.2,>=5.1, but you'll have pyyaml 3.13 which is incompatible.\u001b[0m\n",
            "Installing collected packages: PyYAML\n",
            "  Found existing installation: PyYAML 5.1.2\n",
            "    Uninstalling PyYAML-5.1.2:\n",
            "      Successfully uninstalled PyYAML-5.1.2\n",
            "Successfully installed PyYAML-3.13\n"
          ],
          "name": "stdout"
        },
        {
          "output_type": "display_data",
          "data": {
            "application/vnd.colab-display-data+json": {
              "pip_warning": {
                "packages": [
                  "yaml"
                ]
              }
            }
          },
          "metadata": {
            "tags": []
          }
        }
      ]
    },
    {
      "cell_type": "code",
      "metadata": {
        "id": "fIQMx7v2SBfM",
        "colab_type": "code",
        "colab": {
          "base_uri": "https://localhost:8080/",
          "height": 54
        },
        "outputId": "682e3b2e-1192-45d6-9e18-65ae50d5a3e1"
      },
      "source": [
        "pip install pyttsx3"
      ],
      "execution_count": 14,
      "outputs": [
        {
          "output_type": "stream",
          "text": [
            "Requirement already satisfied: pyttsx3 in /usr/local/lib/python3.6/dist-packages (2.90)\n"
          ],
          "name": "stdout"
        }
      ]
    },
    {
      "cell_type": "code",
      "metadata": {
        "id": "wTH3hObdSWvo",
        "colab_type": "code",
        "colab": {
          "base_uri": "https://localhost:8080/",
          "height": 128
        },
        "outputId": "18d5d8f6-7cfb-458f-e8df-3c22c09e59da"
      },
      "source": [
        "from chatterbot import ChatBot\n",
        "from chatterbot.trainers import ListTrainer\n",
        "from tkinter import *\n",
        "import pyttsx3 as pp\n",
        "import speech_recognition as s\n",
        "import threading\n",
        "from .engine import Engine\n",
        "import weakref\n",
        "\n",
        "_activeEngines = weakref.WeakValueDictionary()\n",
        "\n",
        "def init(driverName=None, debug=False):\n",
        "\n",
        "engine = pp.init()\n",
        "\n",
        "voices = engine.getProperty('voices')\n",
        "print(voices)\n",
        "\n",
        "engine.setProperty('voice', voices[0].id)\n",
        "\n",
        "try:\n",
        "        eng = _activeEngines[driverName]\n",
        "    except KeyError:\n",
        "        eng = Engine(driverName, debug)\n",
        "        _activeEngines[driverName] = eng\n",
        "    return eng\n",
        "\n",
        "\n",
        "def speak(word):\n",
        "    engine = init()\n",
        "    engine.say(word)\n",
        "    engine.runAndWait()\n",
        "\n",
        "\n",
        "# pyttsx3\n",
        "bot = ChatBot(\"My Bot\")\n",
        "\n",
        "convo = [\n",
        "    'hello',\n",
        "    'hi there !',\n",
        "    'what is your name ?',\n",
        "    'My name is Bot , i am created by Durgesh',\n",
        "    'how are you ?',\n",
        "    'I am doing great these days',\n",
        "    'thank you',\n",
        "    'In which city you live ?',\n",
        "    'I live in lucknow',\n",
        "    'In which language you talk?',\n",
        "    ' I mostly talk in english'\n",
        "]\n",
        "\n",
        "trainer = ListTrainer(bot)\n",
        "\n",
        "# now training the bot with the help of trainer\n",
        "\n",
        "trainer.train(convo)\n",
        "\n",
        "# answer = bot.get_response(\"what is your name?\")\n",
        "# print(answer)\n",
        "\n",
        "# print(\"Talk to bot \")\n",
        "# while True:\n",
        "#     query = input()\n",
        "#     if query == 'exit':\n",
        "#         break\n",
        "#     answer = bot.get_response(query)\n",
        "#     print(\"bot : \", answer)\n",
        "\n",
        "main = Tk()\n",
        "\n",
        "main.geometry(\"500x650\")\n",
        "\n",
        "main.title(\"My Chat bot\")\n",
        "img = PhotoImage(file=\"bot1.png\")\n",
        "\n",
        "photoL = Label(main, image=img)\n",
        "\n",
        "photoL.pack(pady=5)\n",
        "\n",
        "\n",
        "# takey query : it takes audio as input from user and convert it to string..\n",
        "\n",
        "def takeQuery():\n",
        "    sr = s.Recognizer()\n",
        "    sr.pause_threshold = 1\n",
        "    print(\"your bot is listening try to speak\")\n",
        "    with s.Microphone() as m:\n",
        "        try:\n",
        "            audio = sr.listen(m)\n",
        "            query = sr.recognize_google(audio, language='eng-in')\n",
        "            print(query)\n",
        "            textF.delete(0, END)\n",
        "            textF.insert(0, query)\n",
        "            ask_from_bot()\n",
        "        except Exception as e:\n",
        "            print(e)\n",
        "            print(\"not recognized\")\n",
        "\n",
        "\n",
        "def ask_from_bot():\n",
        "    query = textF.get()\n",
        "    answer_from_bot = bot.get_response(query)\n",
        "    msgs.insert(END, \"you : \" + query)\n",
        "    print(type(answer_from_bot))\n",
        "    msgs.insert(END, \"bot : \" + str(answer_from_bot))\n",
        "    speak(answer_from_bot)\n",
        "    textF.delete(0, END)\n",
        "    msgs.yview(END)\n",
        "\n",
        "\n",
        "frame = Frame(main)\n",
        "\n",
        "sc = Scrollbar(frame)\n",
        "msgs = Listbox(frame, width=80, height=20, yscrollcommand=sc.set)\n",
        "\n",
        "sc.pack(side=RIGHT, fill=Y)\n",
        "\n",
        "msgs.pack(side=LEFT, fill=BOTH, pady=10)\n",
        "\n",
        "frame.pack()\n",
        "\n",
        "# creating text field\n",
        "\n",
        "textF = Entry(main, font=(\"Verdana\", 20))\n",
        "textF.pack(fill=X, pady=10)\n",
        "\n",
        "btn = Button(main, text=\"Ask from bot\", font=(\"Verdana\", 20), command=ask_from_bot)\n",
        "btn.pack()\n",
        "\n",
        "\n",
        "# creating a function\n",
        "def enter_function(event):\n",
        "    btn.invoke()\n",
        "\n",
        "\n",
        "# going to bind main window with enter key...\n",
        "\n",
        "main.bind('<Return>', enter_function)\n",
        "\n",
        "\n",
        "def repeatL():\n",
        "    while True:\n",
        "        takeQuery()\n",
        "\n",
        "\n",
        "t = threading.Thread(target=repeatL)\n",
        "\n",
        "t.start()\n",
        "\n",
        "main.mainloop()"
      ],
      "execution_count": 21,
      "outputs": [
        {
          "output_type": "error",
          "ename": "IndentationError",
          "evalue": "ignored",
          "traceback": [
            "\u001b[0;36m  File \u001b[0;32m\"<ipython-input-21-971b7d9dde74>\"\u001b[0;36m, line \u001b[0;32m14\u001b[0m\n\u001b[0;31m    engine = pp.init ()\u001b[0m\n\u001b[0m         ^\u001b[0m\n\u001b[0;31mIndentationError\u001b[0m\u001b[0;31m:\u001b[0m expected an indented block\n"
          ]
        }
      ]
    }
  ]
}