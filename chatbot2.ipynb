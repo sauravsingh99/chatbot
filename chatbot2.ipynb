{
  "nbformat": 4,
  "nbformat_minor": 0,
  "metadata": {
    "colab": {
      "name": "Untitled6.ipynb",
      "provenance": [],
      "authorship_tag": "ABX9TyNtCdxyEQ0oVjuPNRG8BkjQ",
      "include_colab_link": true
    },
    "kernelspec": {
      "name": "python3",
      "display_name": "Python 3"
    }
  },
  "cells": [
    {
      "cell_type": "markdown",
      "metadata": {
        "id": "view-in-github",
        "colab_type": "text"
      },
      "source": [
        "<a href=\"https://colab.research.google.com/github/sauravsingh99/chatbot/blob/master/chatbot2.ipynb\" target=\"_parent\"><img src=\"https://colab.research.google.com/assets/colab-badge.svg\" alt=\"Open In Colab\"/></a>"
      ]
    },
    {
      "cell_type": "code",
      "metadata": {
        "id": "OQc4leQQvP-5",
        "colab_type": "code",
        "colab": {
          "base_uri": "https://localhost:8080/",
          "height": 493
        },
        "outputId": "d1ae6406-5eba-436e-8f9b-d0ede39f9594"
      },
      "source": [
        "import nltk\n",
        "import numpy as np\n",
        "import random\n",
        "import string\n",
        "\n",
        "f=open('chatbot.txt' , 'r', errors='ignore')\n",
        "raw=f.read()\n",
        "raw=raw.lower()\n",
        "nltk.download('punkt')\n",
        "nltk.download('wordnet')\n",
        "sent_token = nltk.sent_tokenize(raw)\n",
        "word_token = nltk.word_tokenize(raw)\n",
        "\n",
        "sent_token[:2]\n",
        "['A chatbot is a software application used to conduct an on-line chat conversation via text or text-to-speech, in lieu of providing direct contact with a live human agent.[1] Designed to convincingly simulate the way a human would behave as a conversational partner, chatbot systems typically require continuous tuning and testing,']\n",
        "word_token[:2]\n",
        "['a', 'chatbot', '(', 'also', 'known']\n",
        "\n",
        "\n",
        "\n",
        "lemmer = nltk.stem.WordNetLemmatizer()\n",
        "def LemTokens(tokens):\n",
        "  return[lemmer.lemmatize(token) for token in tokens]\n",
        "remove_punct_dict = dict((ord(punct), None) for punct in string.punctuation)\n",
        "def LemNormalize(text):\n",
        "   return LemTokens(nltk.word_tokenize(text.lower().translate(remove_punct_dict)) )\n",
        "\n",
        "\n",
        "GREETING_INPUTS = (\"hello\" , \"hi\" , \"greeting\" , \"what's up\" , \"hey\" ,)\n",
        "GREETING_RESPONSES = [\"hi\" , \"hey\" , \"*nods*\" , \"hi there\" , \"hello\" , \"I am glad you are talking to me \"]\n",
        "def greeting (sentence):\n",
        "  for word in sentence.split():\n",
        "    if word.lower() in GREETING_INPUTS:\n",
        "      return random.choice(GREETING_RESPONSES)\n",
        "      \n",
        "\n",
        "from sklearn.feature_extraction.text import TfidfVectorizer\n",
        "from sklearn.metrics.pairwise import cosine_similarity\n",
        "\n",
        "def response(user_response):\n",
        "  robo_response=''\n",
        "  sent_token.append(user_response)\n",
        "  TfidfVec = TfidfVectorizer(tokenizer=LemNormalize, stop_words= 'english')\n",
        "  tfidf = TfidfVec.fit_transform(sent_token)\n",
        "  vals = cosine_similarity(tfidf[-1], tfidf)\n",
        "  idx = vals.argsort()[0][-2]\n",
        "  flat = vals.flatten()\n",
        "  flat.sort()\n",
        "  req_tfidf = flat[-2]\n",
        "  if(req_tfidf==0):\n",
        "    robo_response=robo_response+\"I am sorry ! I dont understand you\"\n",
        "    return robo_response\n",
        "  else: \n",
        "    robo_response = robo_response+sent_token[idx]\n",
        "    return robo_response \n",
        "\n",
        "flag=True\n",
        "print(\"hi my name is chatbot!\")\n",
        "while (flag==True):\n",
        "  user_response = input()\n",
        "  user_response=user_response.lower()\n",
        "  if(user_response!='bye'):\n",
        "    if (user_response=='thanks' or user_response=='thank you'):\n",
        "       flag=False\n",
        "       print(\"chatbot: you're welcome !\")\n",
        "    else:\n",
        "      if(greeting (user_response) !=None ):\n",
        "        print (\"chatbot: \"+greeting(user_response))\n",
        "      else:\n",
        "        print(\"chatbot:\", end=\"\")\n",
        "        print (response(user_response))\n",
        "        sent_token.remove(user_response)\n",
        "\n",
        "       \n",
        "         \n",
        "       \n",
        "  else:\n",
        "     flag=False\n",
        "     print(\"chatbot : thanks for talking bye !\")         "
      ],
      "execution_count": null,
      "outputs": [
        {
          "output_type": "stream",
          "text": [
            "[nltk_data] Downloading package punkt to /root/nltk_data...\n",
            "[nltk_data]   Package punkt is already up-to-date!\n",
            "[nltk_data] Downloading package wordnet to /root/nltk_data...\n",
            "[nltk_data]   Package wordnet is already up-to-date!\n",
            "hi my name is chatbot!\n",
            "saurav\n"
          ],
          "name": "stdout"
        },
        {
          "output_type": "stream",
          "text": [
            "/usr/local/lib/python3.6/dist-packages/sklearn/feature_extraction/text.py:385: UserWarning: Your stop_words may be inconsistent with your preprocessing. Tokenizing the stop words generated tokens ['ha', 'le', 'u', 'wa'] not in stop_words.\n",
            "  'stop_words.' % sorted(inconsistent))\n"
          ],
          "name": "stderr"
        },
        {
          "output_type": "stream",
          "text": [
            "chatbot:alan is a good boy \n",
            "saurav location is kolkata\n",
            "saurav is a good boy \n",
            "saurav mba\n",
            "saurav live\n"
          ],
          "name": "stdout"
        },
        {
          "output_type": "stream",
          "text": [
            "/usr/local/lib/python3.6/dist-packages/sklearn/feature_extraction/text.py:385: UserWarning: Your stop_words may be inconsistent with your preprocessing. Tokenizing the stop words generated tokens ['ha', 'le', 'u', 'wa'] not in stop_words.\n",
            "  'stop_words.' % sorted(inconsistent))\n"
          ],
          "name": "stderr"
        },
        {
          "output_type": "stream",
          "text": [
            "chatbot:alan is a good boy \n",
            "saurav location is kolkata\n",
            "saurav is a good boy \n",
            "saurav mba\n",
            "saurav location\n"
          ],
          "name": "stdout"
        },
        {
          "output_type": "stream",
          "text": [
            "/usr/local/lib/python3.6/dist-packages/sklearn/feature_extraction/text.py:385: UserWarning: Your stop_words may be inconsistent with your preprocessing. Tokenizing the stop words generated tokens ['ha', 'le', 'u', 'wa'] not in stop_words.\n",
            "  'stop_words.' % sorted(inconsistent))\n"
          ],
          "name": "stderr"
        },
        {
          "output_type": "stream",
          "text": [
            "chatbot:alan is a good boy \n",
            "saurav location is kolkata\n",
            "saurav is a good boy \n",
            "saurav mba\n"
          ],
          "name": "stdout"
        }
      ]
    },
    {
      "cell_type": "code",
      "metadata": {
        "id": "IuAf0d77vRTv",
        "colab_type": "code",
        "colab": {}
      },
      "source": [
        ""
      ],
      "execution_count": null,
      "outputs": []
    }
  ]
}